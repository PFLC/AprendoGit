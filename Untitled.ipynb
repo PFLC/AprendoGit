{
 "cells": [
  {
   "cell_type": "code",
   "execution_count": null,
   "metadata": {},
   "outputs": [],
   "source": [
    "#Convertir pulgadas a yardas, y pies a puiga-das\n",
    "\n",
    "num= int(input('Cantidad de Pulgadas: '))\n",
    "yardas=num*0.02777\n",
    "print(str(yardas))\n",
    "num2=int(input('Cantidad de pies: '))\n",
    "pulgadas=num2*12\n",
    "print(str(pulgadas))\n"
   ]
  },
  {
   "cell_type": "code",
   "execution_count": null,
   "metadata": {},
   "outputs": [],
   "source": [
    "#Determinar si un número dado es divisible entre 14\n",
    "a=14\n",
    "if (a%14==0):\n",
    "    print(\" Es par\")\n",
    "else:\n",
    "    print(\" Es Impar\")"
   ]
  },
  {
   "cell_type": "code",
   "execution_count": null,
   "metadata": {},
   "outputs": [],
   "source": [
    "#Determinar si un entero dado es un múltiplo de 6\n",
    "a=17\n",
    "if(a%6==0):\n",
    "    print(\"Es Multiplo de 6\")\n",
    "else: \n",
    "    print(\"No es Multiplo de 6\")"
   ]
  },
  {
   "cell_type": "code",
   "execution_count": null,
   "metadata": {},
   "outputs": [],
   "source": [
    "#Introduce y determinar si es “par” o “impar”\n",
    "a=int(input(\"ingrese un numero\\n\"))\n",
    "if(a%2==0):\n",
    " print(str(a)+\" es par\")\n",
    "else:\n",
    " print(str(a)+\" es impar\") "
   ]
  },
  {
   "cell_type": "code",
   "execution_count": null,
   "metadata": {},
   "outputs": [],
   "source": [
    "#Escribir un programa que acepte 25 enteros positivos como datos y describir cada uno como “impar”o “par”\n"
   ]
  }
 ],
 "metadata": {
  "kernelspec": {
   "display_name": "Python 3",
   "language": "python",
   "name": "python3"
  },
  "language_info": {
   "codemirror_mode": {
    "name": "ipython",
    "version": 3
   },
   "file_extension": ".py",
   "mimetype": "text/x-python",
   "name": "python",
   "nbconvert_exporter": "python",
   "pygments_lexer": "ipython3",
   "version": "3.6.5"
  }
 },
 "nbformat": 4,
 "nbformat_minor": 2
}
