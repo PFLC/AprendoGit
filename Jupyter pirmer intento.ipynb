{
 "cells": [
  {
   "cell_type": "markdown",
   "metadata": {},
   "source": [
    "# Aqui va MarkDown\n",
    "## Soporta casi todos los comandos \n",
    "## Pero se debe de cambiar por el formato de \"MarkDown\"\n",
    "Si no se cambia, lo tomara como codigo de programa."
   ]
  },
  {
   "cell_type": "markdown",
   "metadata": {},
   "source": [
    ">[ ]. es el Kernel, el poder de un equipo de computo que nos ayuda a resolver o disminuir problemas de logica en las celdas de Jupyter."
   ]
  },
  {
   "cell_type": "code",
   "execution_count": 1,
   "metadata": {},
   "outputs": [
    {
     "name": "stdout",
     "output_type": "stream",
     "text": [
      "Hola mundo\n"
     ]
    }
   ],
   "source": [
    "print('Hola mundo')"
   ]
  }
 ],
 "metadata": {
  "kernelspec": {
   "display_name": "Python 3",
   "language": "python",
   "name": "python3"
  },
  "language_info": {
   "codemirror_mode": {
    "name": "ipython",
    "version": 3
   },
   "file_extension": ".py",
   "mimetype": "text/x-python",
   "name": "python",
   "nbconvert_exporter": "python",
   "pygments_lexer": "ipython3",
   "version": "3.6.4"
  }
 },
 "nbformat": 4,
 "nbformat_minor": 2
}
