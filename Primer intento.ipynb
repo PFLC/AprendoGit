{
 "cells": [
  {
   "cell_type": "markdown",
   "metadata": {},
   "source": [
    "# Aqui va markdown\n",
    "## Jupyter puede leer la gran mayoria de los comandos de .md\n",
    "### Es necesario cambar el codigo a markdown para trabajar\n",
    "Lo necesario es poder adapatarse al estilo de la platafroma para poder trabajar."
   ]
  },
  {
   "cell_type": "raw",
   "metadata": {},
   "source": [
    ">[ ]es el kernel el poder de lequipo de computo que nos ayuda a desmenuzar diferentes problemas de caracter logico-secuencial en las celdas de Jupyter."
   ]
  },
  {
   "cell_type": "code",
   "execution_count": 3,
   "metadata": {},
   "outputs": [
    {
     "name": "stdout",
     "output_type": "stream",
     "text": [
      "Hola mundo!\n"
     ]
    }
   ],
   "source": [
    "print(\"Hola mundo!\")"
   ]
  }
 ],
 "metadata": {
  "kernelspec": {
   "display_name": "Python 3",
   "language": "python",
   "name": "python3"
  },
  "language_info": {
   "codemirror_mode": {
    "name": "ipython",
    "version": 3
   },
   "file_extension": ".py",
   "mimetype": "text/x-python",
   "name": "python",
   "nbconvert_exporter": "python",
   "pygments_lexer": "ipython3",
   "version": "3.6.4"
  }
 },
 "nbformat": 4,
 "nbformat_minor": 2
}
